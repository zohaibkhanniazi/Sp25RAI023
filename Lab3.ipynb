{
  "nbformat": 4,
  "nbformat_minor": 0,
  "metadata": {
    "colab": {
      "provenance": []
    },
    "kernelspec": {
      "name": "python3",
      "display_name": "Python 3"
    },
    "language_info": {
      "name": "python"
    }
  },
  "cells": [
    {
      "cell_type": "code",
      "execution_count": 9,
      "metadata": {
        "colab": {
          "base_uri": "https://localhost:8080/"
        },
        "id": "yX6zBdv7vmUG",
        "outputId": "a6843e48-cd5d-40fe-b1ee-6aee96d773d1"
      },
      "outputs": [
        {
          "output_type": "stream",
          "name": "stdout",
          "text": [
            "Current: Arad | Cost so far: 0\n",
            "Current: Sibiu | Cost so far: 140\n",
            "Current: Rimniciu Vilcea | Cost so far: 220\n",
            "Current: Fagaras | Cost so far: 239\n",
            "Current: Pitesti | Cost so far: 317\n",
            "Current: Bucharest | Cost so far: 418\n",
            "\n",
            "Path from Arad to Bucharest: ['Arad', 'Sibiu', 'Rimniciu Vilcea', 'Pitesti', 'Bucharest']\n"
          ]
        }
      ],
      "source": [
        "#Issues in Your Code\n",
        "#Checking membership of full triplet [item[0], ..., ...] in opened and closed doesn’t work correctly because the actual nodes in opened and closed have updated path costs, so list comparison fails.\n",
        "#You don’t track the best path to a node — you may re-add worse paths.\n",
        "#You're not tracking the parent of each node to reconstruct the path.\n",
        "#You’re using only the city name for comparison in goal, but storing and comparing triplets (lists) in opened/closed.\n",
        "\n",
        "\n",
        "\n",
        "\n",
        "def astar_traversal(graph, start, goal):\n",
        "    open_list = [[start, 0, None, 0]]  # [city, cost_so_far, parent, heuristic]\n",
        "    closed_list = {}\n",
        "\n",
        "    while open_list:\n",
        "        # Sort by f(n) = g(n) + h(n)\n",
        "        open_list.sort(key=lambda x: x[1] + x[3])\n",
        "        current_city, cost_so_far, parent, heuristic = open_list.pop(0)\n",
        "\n",
        "        print(f\"Current: {current_city} | Cost so far: {cost_so_far}\")\n",
        "\n",
        "        if current_city not in closed_list:\n",
        "            closed_list[current_city] = parent\n",
        "\n",
        "        if current_city == goal:\n",
        "            # Goal found; reconstruct path\n",
        "            path = [current_city]\n",
        "            while closed_list[path[-1]] is not None:\n",
        "                path.append(closed_list[path[-1]])\n",
        "            path.reverse()\n",
        "            return path\n",
        "\n",
        "        for neighbor, dist, heur in graph.get(current_city, []):\n",
        "            if neighbor not in closed_list:\n",
        "                open_list.append([neighbor, cost_so_far + dist, current_city, heur])\n",
        "\n",
        "    return None  # Goal not found\n",
        "\n",
        "# Run A* and check result\n",
        "result = astar_traversal(graph, 'Arad', 'Bucharest')\n",
        "if result:\n",
        "    print(\"\\nPath from Arad to Bucharest:\", result)\n",
        "else:\n",
        "    print(\"\\nGoal not found.\")\n"
      ]
    },
    {
      "cell_type": "code",
      "source": [],
      "metadata": {
        "id": "d1atpKPMx0-N"
      },
      "execution_count": 9,
      "outputs": []
    }
  ]
}
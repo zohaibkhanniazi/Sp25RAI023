{
  "nbformat": 4,
  "nbformat_minor": 0,
  "metadata": {
    "colab": {
      "provenance": []
    },
    "kernelspec": {
      "name": "python3",
      "display_name": "Python 3"
    },
    "language_info": {
      "name": "python"
    }
  },
  "cells": [
    {
      "cell_type": "markdown",
      "source": [
        "**1.   Python - Modules and Packages**\n",
        "\n",
        "**2.   Python - List and Dictionaries**"
      ],
      "metadata": {
        "id": "DQ09dwZyrBNq"
      }
    },
    {
      "cell_type": "markdown",
      "source": [
        "**Module** - A module is a Python file that’s intended to be imported into scripts or other modules. It often defines members like classes, functions, and variables intended to be used in other files that import it. The file name is the module name with the suffix \".py\".\n",
        "\n",
        "\n",
        "**Package (Library)** - A package is a collection of related modules that work together to provide certain functionality. These modules are contained within a folder and can be imported just like any other modules (e.g., NumPy, Pandas)."
      ],
      "metadata": {
        "id": "mXavSfsVqodq"
      }
    },
    {
      "cell_type": "markdown",
      "source": [
        "**Package Structure**\n",
        "```\n",
        "math_operations/\n",
        "│── addition.py\n",
        "│── subtraction.py\n",
        "```"
      ],
      "metadata": {
        "id": "yqguubvspDtC"
      }
    },
    {
      "cell_type": "markdown",
      "source": [
        "**Create a *math_operations* package**"
      ],
      "metadata": {
        "id": "gPrdwpZhwe4C"
      }
    },
    {
      "cell_type": "code",
      "source": [
        "!mkdir math_operations"
      ],
      "metadata": {
        "id": "19xuu0Bbz71M"
      },
      "execution_count": null,
      "outputs": []
    },
    {
      "cell_type": "markdown",
      "source": [
        "**Create *addition.py* and *subtraction.py* modules**"
      ],
      "metadata": {
        "id": "GAowmw_B33Wj"
      }
    },
    {
      "cell_type": "code",
      "execution_count": null,
      "metadata": {
        "colab": {
          "base_uri": "https://localhost:8080/"
        },
        "id": "hyc5G1JekO92",
        "outputId": "f9aeff6b-7889-4dab-f1d3-ad05595cba49"
      },
      "outputs": [
        {
          "output_type": "stream",
          "name": "stdout",
          "text": [
            "Writing math_operations/addition.py\n"
          ]
        }
      ],
      "source": [
        "#addition.py\n",
        "%%writefile math_operations/addition.py\n",
        "def add(a, b):\n",
        "    return a + b"
      ]
    },
    {
      "cell_type": "code",
      "source": [
        "#subtraction.py\n",
        "%%writefile math_operations/subtraction.py\n",
        "def subtract(a, b):\n",
        "    return a - b"
      ],
      "metadata": {
        "colab": {
          "base_uri": "https://localhost:8080/"
        },
        "id": "EQTbOCMBp-GB",
        "outputId": "b143556b-dd15-4c04-bfe5-427b6d1605a0"
      },
      "execution_count": null,
      "outputs": [
        {
          "output_type": "stream",
          "name": "stdout",
          "text": [
            "Writing math_operations/subtraction.py\n"
          ]
        }
      ]
    },
    {
      "cell_type": "markdown",
      "source": [
        "**Use the Package**"
      ],
      "metadata": {
        "id": "gCjoUcH92NMz"
      }
    },
    {
      "cell_type": "code",
      "source": [
        "from math_operations.addition import add\n",
        "from math_operations.subtraction import subtract\n",
        "\n",
        "# Using functions from the package\n",
        "print(add(8, 3))  # Output: 11\n",
        "print(subtract(10, 4))  # Output: 6"
      ],
      "metadata": {
        "colab": {
          "base_uri": "https://localhost:8080/"
        },
        "id": "9b20qIWj2TcT",
        "outputId": "56348fad-4901-4b66-c4c9-8200ef6823d9"
      },
      "execution_count": null,
      "outputs": [
        {
          "output_type": "stream",
          "name": "stdout",
          "text": [
            "11\n",
            "6\n"
          ]
        }
      ]
    },
    {
      "cell_type": "code",
      "source": [
        "import math_operations.addition as math_op1\n",
        "import math_operations.subtraction as math_op2\n",
        "\n",
        "# Using functions from the package\n",
        "print(math_op1.add(5, 3))  # Output: 8\n",
        "print(math_op2.subtract(10, 4))  # Output: 6\n",
        "\n"
      ],
      "metadata": {
        "colab": {
          "base_uri": "https://localhost:8080/"
        },
        "id": "7t-8eYno18hE",
        "outputId": "ac6ee0cd-4b12-4d3f-fbf2-84813b03fc06"
      },
      "execution_count": null,
      "outputs": [
        {
          "output_type": "stream",
          "name": "stdout",
          "text": [
            "8\n",
            "6\n"
          ]
        }
      ]
    },
    {
      "cell_type": "markdown",
      "source": [
        "**Move the Package to Google Drive**"
      ],
      "metadata": {
        "id": "X4xeUXYLB7O1"
      }
    },
    {
      "cell_type": "code",
      "source": [
        "#Move package from Session Storage to Google Drive\n",
        "!mv '/content/math_operations' '/content/drive/MyDrive/Programming for AI_SPRING-25'"
      ],
      "metadata": {
        "id": "HNHLTy61CBdN"
      },
      "execution_count": null,
      "outputs": []
    },
    {
      "cell_type": "markdown",
      "source": [
        "**Copy Package from Google Drive to Session Storage**"
      ],
      "metadata": {
        "id": "k6EhuVpEIYsu"
      }
    },
    {
      "cell_type": "code",
      "source": [
        "#Move package from Google Drive to Session Storage\n",
        "!cp -r '/content/drive/MyDrive/Programming for AI_SPRING-25/math_operations' '/content'"
      ],
      "metadata": {
        "id": "iyyhhHdlEwOG"
      },
      "execution_count": null,
      "outputs": []
    },
    {
      "cell_type": "markdown",
      "source": [
        "### **Python - List**"
      ],
      "metadata": {
        "id": "RIZdlnpAu1uK"
      }
    },
    {
      "cell_type": "markdown",
      "source": [
        "**Python Range Function**"
      ],
      "metadata": {
        "id": "ySVhhU1buEzr"
      }
    },
    {
      "cell_type": "code",
      "source": [
        "#Example 1: Using range() with one argument\n",
        "#This will create a range from 0 to 9 (10 elements in total)\n",
        "for i in range(10): print(i) # Output: 0, 1, 2, 3, 4, 5, 6, 7, 8, 9\n",
        "\n",
        "#Example 2: Using range() with two arguments\n",
        "#This will create a range from 2 to 9 (7 elements in total)\n",
        "for i in range(2, 10): print(i) # Output: 2, 3, 4, 5, 6, 7, 8, 9\n",
        "\n",
        "#Example 3: Using range() with three arguments\n",
        "#This will create a range from 2 to 19, with a step of 3 (7 elements in total)\n",
        "for i in range(2, 20, 3): print(i) # Output: 2, 5, 8, 11, 14, 17\n",
        "\n",
        "#Example 4: Using range() to create a list of numbers\n",
        "#This will create a list of numbers from 2 to 19, with a step of 3 (7 elements in total)\n",
        "my_list = list(range(2, 20, 3)) print(my_list) # Output: [2, 5, 8, 11, 14, 17]\n",
        "\n",
        "#Example 5: Using range() to iterate over the indices of a list\n",
        "my_list = [10, 20, 30, 40, 50] for i in range(len(my_list)): print(f\"Index {i}: {my_list[i]}\") # Output: Index 0: 10, Index 1: 20, Index 2: 30, Index 3: 40, Index 4: 50"
      ],
      "metadata": {
        "id": "Fyj83nuuvEzj"
      },
      "execution_count": null,
      "outputs": []
    },
    {
      "cell_type": "markdown",
      "source": [
        "**Python Lists**"
      ],
      "metadata": {
        "id": "Saj1NnFvvPfj"
      }
    },
    {
      "cell_type": "code",
      "source": [
        "# Creating a list with square brackets\n",
        "list_a = [1, 2, 3, 4, 5]\n",
        "\n",
        "# Creating an empty list\n",
        "empty_list = []\n",
        "\n",
        "\n",
        "\n",
        "# Accessing elements by index\n",
        "print(list_a[0])  # 1\n",
        "\n",
        "# Accessing the last element using negative index\n",
        "print(list_a[-1])  # 5\n",
        "\n",
        "# Accessing a range of elements\n",
        "print(list_a[1:4])  # [2, 3, 4]\n",
        "\n",
        "\n",
        "\n",
        "# Modifying an element\n",
        "list_a[2] = 10\n",
        "print(list_a)  # [1, 2, 10, 4, 5]\n",
        "\n",
        "# Modifying multiple elements using slicing\n",
        "list_a[1:3] = [20, 30]\n",
        "print(list_a)  # [1, 20, 30, 4, 5]\n",
        "\n",
        "\n",
        "\n",
        "# Appending a single element\n",
        "list_a.append(6)\n",
        "print(list_a)  # [1, 20, 30, 4, 5, 6]\n",
        "\n",
        "# Extending with another list\n",
        "list_a.extend([7, 8, 9])\n",
        "print(list_a)  # [1, 20, 30, 4, 5, 6, 7, 8, 9]\n",
        "\n",
        "\n",
        "\n",
        "# Inserting an element at a specific position\n",
        "list_a.insert(2, 100)\n",
        "print(list_a)  # [1, 20, 100, 30, 4, 5, 6, 7, 8, 9]\n",
        "\n",
        "# Removing an element by value\n",
        "list_a.remove(100)\n",
        "print(list_a)  # [1, 20, 30, 4, 5, 6, 7, 8, 9]\n",
        "\n",
        "# Removing an element by index\n",
        "del list_a[2]\n",
        "print(list_a)  # [1, 20, 4, 5, 6, 7, 8, 9]\n",
        "\n",
        "\n",
        "\n",
        "# Sorting a list\n",
        "list_a.sort()\n",
        "print(list_a)  # [1, 4, 5, 6, 7, 8, 9, 20]\n",
        "\n",
        "# Reversing a list\n",
        "list_a.reverse()\n",
        "print(list_a)  # [20, 9, 8, 7, 6, 5, 4, 1]"
      ],
      "metadata": {
        "id": "JYetuJUivRNo"
      },
      "execution_count": null,
      "outputs": []
    },
    {
      "cell_type": "markdown",
      "source": [
        "**List Operations (indexing, slicing, concatenation, repetition, and membership testing).**"
      ],
      "metadata": {
        "id": "l-M1F6Q9vgF6"
      }
    },
    {
      "cell_type": "code",
      "source": [
        "# A three-item list\n",
        "my_list = [10, 20, 30]\n",
        "\n",
        "# Access the first element (index 0)\n",
        "first_item = my_list[0]\n",
        "print(first_item)  # Output: 10\n",
        "\n",
        "# Slice from index 0 to 2 (not inclusive of 2)\n",
        "sub_list = my_list[0:2]\n",
        "print(sub_list)  # Output: [10, 20]\n",
        "\n",
        "# Concatenate two lists\n",
        "new_list = my_list + [40, 50]\n",
        "print(new_list)  # Output: [10, 20, 30, 40, 50]\n",
        "\n",
        "# Repeat the list three times\n",
        "repeated_list = my_list * 3\n",
        "print(repeated_list)  # Output: [10, 20, 30, 10, 20, 30, 10, 20, 30]\n",
        "\n",
        "# Check if 20 is in the list\n",
        "is_in_list = 20 in my_list\n",
        "print(is_in_list)  # Output: True\n",
        "\n",
        "# Get the length of the list\n",
        "length = len(my_list)\n",
        "print(length)  # Output: 3\n",
        "\n",
        "# Minimum value in the list\n",
        "min_value = min(my_list)\n",
        "print(min_value)  # Output: 10\n",
        "\n",
        "# Maximum value in the list\n",
        "max_value = max(my_list)\n",
        "print(max_value)  # Output: 30\n",
        "\n",
        "# Iterating over the list\n",
        "for item in my_list:\n",
        "    print(item)\n",
        "# Output:\n",
        "# 10\n",
        "# 20\n",
        "# 30\n"
      ],
      "metadata": {
        "id": "3p_YTJqQvg9D"
      },
      "execution_count": null,
      "outputs": []
    },
    {
      "cell_type": "markdown",
      "source": [
        "**List Nesting**"
      ],
      "metadata": {
        "id": "JsGaOfLlvnMi"
      }
    },
    {
      "cell_type": "code",
      "source": [
        "# A list containing other lists\n",
        "nested_list = [[1, 2, 3], [4, 5, 6], [7, 8, 9]]\n",
        "\n",
        "print(nested_list)\n",
        "# Output: [[1, 2, 3], [4, 5, 6], [7, 8, 9]]\n",
        "\n",
        "\n",
        "# Accessing the first sublist\n",
        "first_sublist = nested_list[0]\n",
        "print(first_sublist)\n",
        "# Output: [1, 2, 3]\n",
        "\n",
        "\n",
        "# Accessing the first element of the first sublist\n",
        "element = nested_list[0][0]\n",
        "print(element)\n",
        "# Output: 1\n",
        "\n",
        "\n",
        "# Changing the value of an element\n",
        "nested_list[1][2] = 60\n",
        "print(nested_list)\n",
        "# Output: [[1, 2, 3], [4, 5, 60], [7, 8, 9]]\n",
        "\n",
        "\n",
        "# A deeply nested list\n",
        "deeply_nested_list = [[[[1, 2], [3, 4]], [[5, 6], [7, 8]]]]\n",
        "print(deeply_nested_list)\n",
        "# Output: [[[[1, 2], [3, 4]], [[5, 6], [7, 8]]]]\n",
        "\n",
        "# Accessing a deeply nested element\n",
        "deep_element = deeply_nested_list[0][1][0][1]\n",
        "print(deep_element)\n",
        "# Output: 6\n",
        "\n",
        "\n",
        "# Iterating through a nested list\n",
        "for sublist in nested_list:\n",
        "    for item in sublist:\n",
        "        print(item, end=\" \")\n",
        "    print()\n",
        "# Output:\n",
        "# 1 2 3\n",
        "# 4 5 60\n",
        "# 7 8 9\n",
        "\n"
      ],
      "metadata": {
        "id": "QpNB2rcwvsEb"
      },
      "execution_count": null,
      "outputs": []
    },
    {
      "cell_type": "markdown",
      "source": [
        "**List Comprehension**"
      ],
      "metadata": {
        "id": "QzvzPmQfv1Br"
      }
    },
    {
      "cell_type": "code",
      "source": [
        "#simple list comprehension\n",
        "squares = [x ** 2 for x in range(10)]\n",
        "print(squares)  # Output: [0, 1, 4, 9, 16, 25, 36, 49, 64, 81]\n",
        "\n",
        "\n",
        "#With condition\n",
        "even_squares = [x ** 2 for x in range(10) if x % 2 == 0]\n",
        "print(even_squares)  # Output: [0, 4, 16, 36, 64]\n",
        "\n",
        "\n",
        "#Nested List Comprehension\n",
        "matrix = [\n",
        "    [1, 2, 3],\n",
        "    [4, 5, 6],\n",
        "    [7, 8, 9]\n",
        "]\n",
        "flat_list = [elem for row in matrix for elem in row]\n",
        "print(flat_list)  # Output: [1, 2, 3, 4, 5, 6, 7, 8, 9]\n",
        "\n",
        "\n",
        "#Applying a Function\n",
        "words = [\"hello\", \"world\", \"python\"]\n",
        "uppercase_words = [word.upper() for word in words]\n",
        "print(uppercase_words)  # Output: ['HELLO', 'WORLD', 'PYTHON']\n",
        "\n",
        "\n",
        "#With multiple conditions\n",
        "divisible_by_2_and_3 = [x for x in range(21) if x % 2 == 0 and x % 3 == 0]\n",
        "print(divisible_by_2_and_3)  # Output: [0, 6, 12, 18]\n",
        "\n",
        "#Nested List Comprehension\n",
        "matrix = [\n",
        "    [1, 2, 3],\n",
        "    [4, 5, 6],\n",
        "    [7, 8, 9]\n",
        "]\n",
        "flat_list = [[elem,elem*4] for row in matrix for elem in row]\n",
        "print(flat_list)  # Output: [1, 2, 3, 4, 5, 6, 7, 8, 9]"
      ],
      "metadata": {
        "id": "l5JV1cgev2qz"
      },
      "execution_count": null,
      "outputs": []
    },
    {
      "cell_type": "markdown",
      "source": [
        "### **Python Dictionary**"
      ],
      "metadata": {
        "id": "3byIsN8Tv6Bb"
      }
    },
    {
      "cell_type": "code",
      "source": [
        "# Creating a dictionary\n",
        "my_dict = {\n",
        "    \"name\": \"Alice\",\n",
        "    \"age\": 30,\n",
        "    \"city\": \"New York\"\n",
        "}\n",
        "\n",
        "\n",
        "# Accessing values\n",
        "print(my_dict[\"name\"])  # Output: Alice\n",
        "print(my_dict[\"age\"])   # Output: 30\n",
        "\n",
        "\n",
        "# Adding a new key-value pair\n",
        "my_dict[\"email\"] = \"alice@example.com\"\n",
        "# Updating an existing key-value pair\n",
        "my_dict[\"age\"] = 31\n",
        "print(my_dict)\n",
        "# Output: {'name': 'Alice', 'age': 31, 'city': 'New York', 'email': 'alice@example.com'}\n",
        "\n",
        "\n",
        "\n",
        "# Removing an entry using del\n",
        "del my_dict[\"city\"]\n",
        "# Removing an entry using pop\n",
        "email = my_dict.pop(\"email\")\n",
        "print(my_dict)\n",
        "# Output: {'name': 'Alice', 'age': 31}\n",
        "print(email)\n",
        "# Output: alice@example.com\n",
        "\n",
        "\n",
        "# Iterating through keys\n",
        "for key in my_dict:\n",
        "    print(key)\n",
        "# Output:\n",
        "# name\n",
        "# age\n",
        "\n",
        "# Iterating through values\n",
        "for value in my_dict.values():\n",
        "    print(value)\n",
        "# Output:\n",
        "# Alice\n",
        "# 31\n",
        "\n",
        "# Iterating through key-value pairs\n",
        "for key, value in my_dict.items():\n",
        "    print(f\"{key}: {value}\")\n",
        "# Output:\n",
        "# name: Alice\n",
        "# age: 31"
      ],
      "metadata": {
        "id": "F4PonfX4wCH7"
      },
      "execution_count": null,
      "outputs": []
    },
    {
      "cell_type": "markdown",
      "source": [
        "**Dictionary Nesting**"
      ],
      "metadata": {
        "id": "M5gDoxj4wGa6"
      }
    },
    {
      "cell_type": "code",
      "source": [
        "# Simple nested dictionary\n",
        "person = {\n",
        "    \"name\": \"Alice\",\n",
        "    \"age\": 30,\n",
        "    \"address\": {\n",
        "        \"street\": \"123 Main St\",\n",
        "        \"city\": \"New York\",\n",
        "        \"zipcode\": \"10001\"\n",
        "    }\n",
        "}\n",
        "print(person)\n",
        "\n",
        "\n",
        "# Dictionary containing a list of dictionaries\n",
        "employees = {\n",
        "    \"department\": \"Engineering\",\n",
        "    \"employees\": [\n",
        "        {\"name\": \"Alice\", \"role\": \"Engineer\", \"id\": 1},\n",
        "        {\"name\": \"Bob\", \"role\": \"Senior Engineer\", \"id\": 2},\n",
        "        {\"name\": \"Charlie\", \"role\": \"Intern\", \"id\": 3}\n",
        "    ]\n",
        "}\n",
        "\n",
        "print(employees)\n",
        "print(employees[\"employees\"][1][\"name\"])  # Output: Bob"
      ],
      "metadata": {
        "id": "i9ZYDuTSwKuz"
      },
      "execution_count": null,
      "outputs": []
    },
    {
      "cell_type": "markdown",
      "source": [
        "**Dictionary Comprehension**"
      ],
      "metadata": {
        "id": "u1GTezIewNYL"
      }
    },
    {
      "cell_type": "code",
      "source": [
        "# Creating a dictionary with numbers as keys and their squares as values\n",
        "squares = {x: x**2 for x in range(5)}\n",
        "print(squares)\n",
        "\n",
        "\n",
        "# Creating a dictionary with even numbers as keys and their squares as values\n",
        "even_squares = {x: x**2 for x in range(10) if x % 2 == 0}\n",
        "print(even_squares)\n",
        "\n",
        "\n",
        "# Creating a nested dictionary with squares and cubes of numbers\n",
        "nested_dict = {x: {'square': x**2, 'cube': x**3} for x in range(3)}\n",
        "print(nested_dict)\n"
      ],
      "metadata": {
        "id": "tzhMByWPwO0_"
      },
      "execution_count": null,
      "outputs": []
    },
    {
      "cell_type": "markdown",
      "source": [
        "## **Lab Task**\n",
        "\n",
        "**Write a Python code for the following scenario:**\n",
        "\n",
        "**Suppose an instructor of a class wants to maintain record of his students in a python dictionary data structure. The designed system asks the instructor for a record of each student one by one as a console input and passes it through a set of sequential steps before generating a dictionary data structure.**\n",
        "\n",
        "**Write a Python script to perform following set of operations to generate dictionary of data for students.**\n",
        "\n",
        "**1. The script should ask the instructor repeatedly for a “student ID”, “name” and his “residential city name” and store it in three different lists. If the instructor types “stop” the loop should exit.**\n",
        "\n",
        "**2. Traverse the three lists generated in “part 1” and create a dictionary data structure out of it. The script should take ID of student as a Key of the dictionary and rest of the attributes as a list within that dictionary in following sequence: {1:[“name”,”city”]}**\n",
        "\n",
        "**Once dictionary is created, the instructor should be able to query the data. He should provide ID of the student as a console input and script should return the name and city of the student.**"
      ],
      "metadata": {
        "id": "yZkyCFk9wR_E"
      }
    },
    {
      "cell_type": "markdown",
      "source": [
        "# **References:**\n",
        "\n",
        "https://realpython.com/videos/scripts-modules-packages-and-libraries/#:~:text=04%3A41%20Packages%20are%20a,Python%20scripts%20without%20any%20issues."
      ],
      "metadata": {
        "id": "y42JJ7P4mIwC"
      }
    }
  ]
}
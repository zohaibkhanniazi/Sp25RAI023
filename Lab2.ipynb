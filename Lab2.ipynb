{
  "nbformat": 4,
  "nbformat_minor": 0,
  "metadata": {
    "colab": {
      "provenance": []
    },
    "kernelspec": {
      "name": "python3",
      "display_name": "Python 3"
    },
    "language_info": {
      "name": "python"
    }
  },
  "cells": [
    {
      "cell_type": "code",
      "execution_count": 1,
      "metadata": {
        "colab": {
          "base_uri": "https://localhost:8080/"
        },
        "id": "7RaFyB8PEToK",
        "outputId": "e9371c37-f9a3-426f-ad39-41b14f1f0de2"
      },
      "outputs": [
        {
          "output_type": "stream",
          "name": "stdout",
          "text": [
            "Enter starting city: Mehadia\n",
            "Enter destination city: Iasi\n",
            "Start: Mehadia\n",
            "Goal: Iasi\n",
            "Ready to apply search algorithms!\n"
          ]
        }
      ],
      "source": [
        "# Define graph as adjacency list with cost\n",
        "graph = {\n",
        "    'Arad': ['Zerind', 'Sibiu', 'Timisoara'],\n",
        "    'Zerind': ['Arad', 'Oradea'],\n",
        "    'Oradea': ['Zerind', 'Sibiu'],\n",
        "    'Sibiu': ['Arad', 'Oradea', 'Fagaras', 'Rimnicu Vilcea'],\n",
        "    'Timisoara': ['Arad', 'Lugoj'],\n",
        "    'Lugoj': ['Timisoara', 'Mehadia'],\n",
        "    'Mehadia': ['Lugoj', 'Dobreta'],\n",
        "    'Dobreta': ['Mehadia', 'Craiova'],\n",
        "    'Craiova': ['Dobreta', 'Pitesti', 'Rimnicu Vilcea'],\n",
        "    'Rimnicu Vilcea': ['Sibiu', 'Pitesti', 'Craiova'],\n",
        "    'Fagaras': ['Sibiu', 'Bucharest'],\n",
        "    'Pitesti': ['Rimnicu Vilcea', 'Craiova', 'Bucharest'],\n",
        "    'Bucharest': ['Fagaras', 'Pitesti', 'Giurgiu', 'Urziceni'],\n",
        "    'Giurgiu': ['Bucharest'],\n",
        "    'Urziceni': ['Bucharest', 'Vaslui', 'Hirsova'],\n",
        "    'Vaslui': ['Urziceni', 'Iasi'],\n",
        "    'Iasi': ['Vaslui', 'Neamt'],\n",
        "    'Neamt': ['Iasi'],\n",
        "    'Hirsova': ['Urziceni', 'Eforie'],\n",
        "    'Eforie': ['Hirsova']\n",
        "}\n",
        "\n",
        "# Take user input\n",
        "start_city = input(\"Enter starting city: \").strip()\n",
        "end_city = input(\"Enter destination city: \").strip()\n",
        "\n",
        "# Check if cities are valid\n",
        "if start_city not in graph or end_city not in graph:\n",
        "    print(\"Invalid city name(s). Please enter correct names from the map.\")\n",
        "else:\n",
        "    print(f\"Start: {start_city}\")\n",
        "    print(f\"Goal: {end_city}\")\n",
        "    print(\"Ready to apply search algorithms!\")\n"
      ]
    }
  ]
}